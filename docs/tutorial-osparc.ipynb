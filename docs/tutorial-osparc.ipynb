{
 "cells": [
  {
   "cell_type": "markdown",
   "metadata": {},
   "source": [
    "# o²S²PARC module from the NIH SPARC Python Client\n"
   ]
  },
  {
   "cell_type": "markdown",
   "metadata": {},
   "source": [
    "In this document you will learn how to access the [o²S²PARC Python Client](https://itisfoundation.github.io/osparc-simcore-clients/#/) as part fo the [NIH SPARC Python Client](https://github.com/nih-sparc/sparc.client).\n",
    "\n",
    "### Pre-requites:\n",
    "- Python version >=3.10: as requested by the [sparc.client](https://pypi.org/project/sparc.client/) package.\n",
    "- An account on [osparc.io](https://osparc.io): you will need this to generate API tokens to use the o²S²PARC module. If you don't have an account, request one at oSPARC Support, as explained [here](https://sparc.science/resources/4LkLiH5s4FV0LVJd3htsvH).\n",
    "- Have a look to the [NIH SPARC Python Client doc](https://github.com/nih-sparc/sparc.client/blob/main/docs/tutorial.ipynb) as a preliminary step (and learn how to set up the Configuration)."
   ]
  },
  {
   "cell_type": "markdown",
   "metadata": {},
   "source": [
    "## Installation"
   ]
  },
  {
   "cell_type": "code",
   "execution_count": 1,
   "metadata": {},
   "outputs": [
    {
     "name": "stderr",
     "output_type": "stream",
     "text": [
      "/home/iavarone/.pyenv/versions/3.10.11/envs/sparc_client/lib/python3.10/site-packages/tqdm/auto.py:21: TqdmWarning: IProgress not found. Please update jupyter and ipywidgets. See https://ipywidgets.readthedocs.io/en/stable/user_install.html\n",
      "  from .autonotebook import tqdm as notebook_tqdm\n"
     ]
    }
   ],
   "source": [
    "# import the necessary packages\n",
    "import importlib, getpass\n",
    "# `is None: # This give and error (cannot find sparc)\n",
    "# ! pip install sparc.client\n",
    "try:\n",
    "  import sparc.client\n",
    "except ImportError:\n",
    "  ! pip install git+https://github.com/nih-sparc/sparc.client\n",
    "try:\n",
    "  from tqdm import tqdm\n",
    "except ImportError:\n",
    "  ! pip install tqdm\n",
    "from pprint import pprint\n",
    "import os\n",
    "from tqdm import tqdm\n",
    "from sparc.client import SparcClient\n",
    "from sparc.client.services.o2sparc import (\n",
    "  O2SparcService,\n",
    "  O2SparcSolver\n",
    ")\n",
    "from time import sleep\n",
    "from pathlib import Path\n",
    "from tempfile import TemporaryDirectory"
   ]
  },
  {
   "cell_type": "markdown",
   "metadata": {},
   "source": [
    "## Login to the o²S²PARC Python Client"
   ]
  },
  {
   "cell_type": "markdown",
   "metadata": {},
   "source": [
    "Set-up credentials for o²S²PARC in osparc.io as explained [here](https://docs.osparc.io/#/docs/platform_introduction/user_setup/security_details?id=generating-o%c2%b2s%c2%b2parc-tokens). Then use the \"Key\" as \"Username\" and \"Secret\" as \"Password\". Another option is to export them as environment variables."
   ]
  },
  {
   "cell_type": "code",
   "execution_count": 11,
   "metadata": {},
   "outputs": [
    {
     "name": "stdout",
     "output_type": "stream",
     "text": [
      "osparc host, e.g. https://api.osparc.io ········\n",
      "API Key: ········\n",
      "API Secret: ········\n"
     ]
    }
   ],
   "source": [
    "os.environ[\"O2SPARC_HOST\"] = getpass.getpass(\"osparc host, e.g. https://api.osparc.io\")\n",
    "os.environ[\"O2SPARC_USERNAME\"] = getpass.getpass(\"API Key:\")\n",
    "os.environ[\"O2SPARC_PASSWORD\"] = getpass.getpass(\"API Secret:\")"
   ]
  },
  {
   "cell_type": "code",
   "execution_count": 17,
   "metadata": {},
   "outputs": [],
   "source": [
    "assert \"O2SPARC_HOST\" in os.environ, \"O2SPARC_HOST must be exposed as an environment variable\"\n",
    "assert \"O2SPARC_USERNAME\" in os.environ, \"O2SPARC_USERNAME must be exposed as an environment variable\"\n",
    "assert \"O2SPARC_PASSWORD\" in os.environ, \"O2SPARC_PASSWORD must be exposed as an environment variable\""
   ]
  },
  {
   "cell_type": "markdown",
   "metadata": {},
   "source": [
    "Access to the computational services provided by the `o2sparc` submodule, is provided via `O2SparcService`, an instance of which can be creates as follows:"
   ]
  },
  {
   "cell_type": "code",
   "execution_count": 13,
   "metadata": {},
   "outputs": [],
   "source": [
    "client = SparcClient(connect=False, config_file='config.ini')\n",
    "o2sparc: O2SparcService = client.o2sparc"
   ]
  },
  {
   "cell_type": "markdown",
   "metadata": {},
   "source": [
    "As a sanity check you can now contact the Osparc server to check that you are logged in as the correct user:"
   ]
  },
  {
   "cell_type": "code",
   "execution_count": 14,
   "metadata": {},
   "outputs": [
    {
     "name": "stdout",
     "output_type": "stream",
     "text": [
      "iavarone@itis.swiss\n"
     ]
    }
   ],
   "source": [
    "print(o2sparc.get_profile())\n",
    "# foo@bar.com"
   ]
  },
  {
   "cell_type": "markdown",
   "metadata": {},
   "source": [
    "## Run a computation"
   ]
  },
  {
   "cell_type": "markdown",
   "metadata": {},
   "source": [
    "Now to the fun part :). In the following cell we specify a job (or a \"computation\") which we submit to a solver (or \"computational service\") on the Osparc platform. More information on computational services [here](https://docs.osparc.io/#/docs/platform_introduction/services?id=service-types)."
   ]
  },
  {
   "cell_type": "code",
   "execution_count": 15,
   "metadata": {},
   "outputs": [
    {
     "name": "stderr",
     "output_type": "stream",
     "text": [
      "100%|███████████████████████████████████████████████████████████████████████████████████████████████████████████████████████████████████████████████████████████████████████████████████████████████████████████████████████████████████████████| 1.0/1.0 [00:05<00:00,  5.54s/it]"
     ]
    },
    {
     "name": "stdout",
     "output_type": "stream",
     "text": [
      "job outputs:\n",
      "output_1: 8\n",
      "output_2: 7.0\n",
      "job log:\n",
      "Entrypoint for stage production ...\n",
      "User : uid=0(root) gid=0(root) groups=0(root)\n",
      "Workdir : /home/scu\n",
      "setting correct user id/group id...\n",
      "Folder mounted owned by user 8004:8004-'scu'...\n",
      "group already exists\n",
      "adding scu to group scu...\n",
      "Adding user `scu' to group `scu' ...\n",
      "Adding user scu to group scu\n",
      "Done.\n",
      "changing scu:scu (8004:8004) to scu:scu (8004:8004)\n",
      "usermod: no changes\n",
      "Changing group properties of files around from 8004 to group scu\n",
      "Changing ownership properties of files around from 8004 to group scu\n",
      "Starting /bin/sh\n",
      "-c\n",
      "run ...\n",
      "  scu rights    : uid=8004(scu) gid=8004(scu) groups=8004(scu)\n",
      "  local dir : total 12\n",
      "drwxr-xr-x 1 scu  scu   105 Aug 11  2020 .\n",
      "drwxr-xr-x 1 root root   17 Aug 11  2020 ..\n",
      "-rw-r--r-- 1 scu  scu   220 Aug 11  2020 .bash_logout\n",
      "-rw-r--r-- 1 scu  scu  3771 Aug 11  2020 .bashrc\n",
      "-rw-r--r-- 1 scu  scu   807 Aug 11  2020 .profile\n",
      "drwxr-xr-x 1 scu  scu    27 Aug 11  2020 docker\n",
      "drwxr-xr-x 1 scu  scu    35 Aug 11  2020 service.cli\n",
      "drwxr-xr-x 1 scu  scu    21 Aug 11  2020 sleeper\n",
      "  input dir : total 8\n",
      "drwxr-xr-x 2 scu  scu   50 Aug 30 07:43 .\n",
      "sh: 2: -c: not found\n",
      "drwxr-xr-x 1 root root 115 Aug 30 07:43 ..\n",
      "-rw-r--r-- 1 scu  scu   30 Aug 30 07:43 inputs.json\n",
      "-rw-r--r-- 1 scu  scu    1 Aug 30 07:43 single_number.txt\n",
      "  output dir : total 0\n",
      "drwxr-xr-x 2 scu  scu    6 Aug 30 07:43 .\n",
      "drwxr-xr-x 1 root root 115 Aug 30 07:43 ..\n",
      "starting service as\n",
      "User : uid=8004(scu) gid=8004(scu) groups=8004(scu)\n",
      "Workdir : /home/scu/sleeper\n",
      "...\n",
      "\n",
      "Will sleep for 3 seconds\n",
      "[PROGRESS] 1/3...\n",
      "Remaining sleep time 0.9999997615814209\n",
      "[PROGRESS] 2/3...\n",
      "Remaining sleep time 0.9999983310699463\n",
      "[PROGRESS] 3/3...\n",
      "Remaining sleep time 0.9999988079071045\n",
      "\n"
     ]
    }
   ],
   "source": [
    "with TemporaryDirectory() as tmp_dir:\n",
    "  input_file: Path = Path(tmp_dir) / \"input_file.txt\"\n",
    "  input_file.write_text(\"3\")\n",
    "\n",
    "  job: dict = {\n",
    "    \"input_3\": 0,\n",
    "    \"input_2\": 3.0,\n",
    "    \"input_1\": input_file\n",
    "  }\n",
    "\n",
    "  solver: O2SparcSolver = o2sparc.get_solver(solver_key=\"simcore/services/comp/itis/sleeper\",solver_version=\"2.0.2\")\n",
    "\n",
    "  job_id = solver.submit_job(job)\n",
    "\n",
    "  pbar = tqdm(total=1.0)\n",
    "  progress: float = 0\n",
    "  while not solver.job_done(job_id):\n",
    "    sleep(1)\n",
    "    if solver.get_job_progress(job_id) > progress:\n",
    "      pbar.update(solver.get_job_progress(job_id) - progress)\n",
    "      progress = solver.get_job_progress(job_id)\n",
    "\n",
    "  print(\"job outputs:\")\n",
    "  for output_name, result in solver.get_results(job_id).items():\n",
    "    if isinstance(result,Path):\n",
    "      print(f\"{output_name}: {Path(result).read_text()}\")\n",
    "    else:\n",
    "      print(f\"{output_name}: {result}\")\n",
    "\n",
    "\n",
    "  print(\"job log:\")\n",
    "  log_dir: TemporaryDirectory = solver.get_job_log(job_id)\n",
    "  for elm in Path(log_dir.name).rglob(\"*\"):\n",
    "    if elm.is_file():\n",
    "      print(elm.read_text())\n",
    "      "
   ]
  },
  {
   "cell_type": "markdown",
   "metadata": {},
   "source": [
    "## Understanding the steps"
   ]
  },
  {
   "cell_type": "markdown",
   "metadata": {},
   "source": [
    "Let's break this into pieces. \n",
    "First we specify the job/input to our solver. A job for a `O2SparcSolver` is nothing but a dictionary whose entries are one of the following types: `str`, `int`, `float` or `pathlib.Path`. Only `pathlib.Path` objects can be passed which point to existing files, like our `input_1` above."
   ]
  },
  {
   "cell_type": "markdown",
   "metadata": {},
   "source": [
    "```python\n",
    "  input_file: Path = Path(tmp_dir) / \"input_file.txt\"\n",
    "  input_file.write_text(\"3\")\n",
    "\n",
    "  job: dict = {\n",
    "    \"input_3\": 0,\n",
    "    \"input_2\": 3.0,\n",
    "    \"input_1\": input_file\n",
    "  }\n",
    "```"
   ]
  },
  {
   "cell_type": "markdown",
   "metadata": {},
   "source": [
    "Second, we get the solver/computational resource we want to use by specifying its identifier and version. Once we have our solver we can submit the job to it."
   ]
  },
  {
   "cell_type": "markdown",
   "metadata": {},
   "source": [
    "```python\n",
    "  solver: O2SparcSolver = o2sparc.get_solver(solver_key=\"simcore/services/comp/itis/sleeper\",solver_version=\"2.0.2\")\n",
    "\n",
    "  job_id = solver.submit_job(job)\n",
    "```"
   ]
  },
  {
   "cell_type": "markdown",
   "metadata": {},
   "source": [
    "Next, we need to wait for the job to be solved"
   ]
  },
  {
   "cell_type": "markdown",
   "metadata": {},
   "source": [
    "```python\n",
    " pbar = tqdm(total=1.0)\n",
    "  progress: float = 0\n",
    "  while not solver.job_done(job_id):\n",
    "    sleep(1)\n",
    "    if solver.get_job_progress(job_id) > progress:\n",
    "      pbar.update(solver.get_job_progress(job_id) - progress)\n",
    "      progress = solver.get_job_progress(job_id)\n",
    "```"
   ]
  },
  {
   "cell_type": "markdown",
   "metadata": {},
   "source": [
    "Once the solver is done performing its computation we can get the results it produces"
   ]
  },
  {
   "cell_type": "markdown",
   "metadata": {},
   "source": [
    "```python\n",
    "  print(\"job outputs:\")\n",
    "  for output_name, result in solver.get_results(job_id).items():\n",
    "    if isinstance(result,Path):\n",
    "      print(f\"{output_name}: {Path(result).read_text()}\")\n",
    "    else:\n",
    "      print(f\"{output_name}: {result}\")\n",
    "```"
   ]
  },
  {
   "cell_type": "markdown",
   "metadata": {},
   "source": [
    "as well as the log it has produced"
   ]
  },
  {
   "cell_type": "markdown",
   "metadata": {},
   "source": [
    "```python\n",
    "  print(\"job log:\")\n",
    "  log_dir: TemporaryDirectory = solver.get_job_log(job_id)\n",
    "  for elm in Path(log_dir.name).rglob(\"*\"):\n",
    "    if elm.is_file():\n",
    "      print(elm.read_text())\n",
    "```"
   ]
  },
  {
   "cell_type": "markdown",
   "metadata": {},
   "source": [
    "Getting the log can be particularly useful for determining issues encountered by the solver. E.g. if the specified `job` is invalid, so that the solver cannot use it, the log will typically indicate this."
   ]
  },
  {
   "cell_type": "markdown",
   "metadata": {},
   "source": [
    "## More resources\n",
    "- More tutorials on the o²S²PARC Python Client are available [here](https://itisfoundation.github.io/osparc-simcore-clients/#/clients/python/docs/v0.5.0/README)\n",
    "- Documentation on the NIH SPARC Client and its sub-modules can be found [here](https://docs.sparc.science/docs/sparc-python-client)."
   ]
  },
  {
   "cell_type": "markdown",
   "metadata": {},
   "source": []
  }
 ],
 "metadata": {
  "kernelspec": {
   "display_name": "Python 3 (ipykernel)",
   "language": "python",
   "name": "python3"
  },
  "language_info": {
   "codemirror_mode": {
    "name": "ipython",
    "version": 3
   },
   "file_extension": ".py",
   "mimetype": "text/x-python",
   "name": "python",
   "nbconvert_exporter": "python",
   "pygments_lexer": "ipython3",
   "version": "3.10.11"
  }
 },
 "nbformat": 4,
 "nbformat_minor": 4
}
