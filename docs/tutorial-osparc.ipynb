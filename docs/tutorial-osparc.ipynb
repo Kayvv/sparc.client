{
 "cells": [
  {
   "cell_type": "markdown",
   "metadata": {},
   "source": [
    "In order to access Osparc you will need to generate Osparc [tokens](https://docs.osparc.io/#/docs/platform_introduction/user_setup/security_details?id=generating-o%c2%b2s%c2%b2parc-tokens) and expose these to your environment in the form of environment variables. More precisely you will have to expose `O2SPARC_HOST`, `O2SPARC_USERNAME` and `O2SPARC_PASSWORD`."
   ]
  },
  {
   "cell_type": "code",
   "execution_count": null,
   "metadata": {},
   "outputs": [],
   "source": [
    "# import the necessary packages\n",
    "import importlib\n",
    "if importlib.util.find_spec('sparc.client') is not None:\n",
    "  ! pip install sparc.client\n",
    "if importlib.util.find_spec('tqdm') is not None:\n",
    "  ! pip install tqdm\n",
    "from pprint import pprint\n",
    "import os\n",
    "from tqdm import tqdm\n",
    "from sparc.client import SparcClient\n",
    "from sparc.client.services.o2sparc import (\n",
    "  O2SparcService,\n",
    "  O2SparcSolver\n",
    ")\n",
    "from time import sleep\n",
    "from pathlib import Path\n",
    "from tempfile import TemporaryDirectory\n",
    "\n",
    "assert \"O2SPARC_HOST\" in os.environ, \"O2SPARC_HOST must be exposed as an environment variable\"\n",
    "assert \"O2SPARC_USERNAME\" in os.environ, \"O2SPARC_USERNAME must be exposed as an environment variable\"\n",
    "assert \"O2SPARC_PASSWORD\" in os.environ, \"O2SPARC_PASSWORD must be exposed as an environment variable\"\n"
   ]
  },
  {
   "cell_type": "markdown",
   "metadata": {},
   "source": [
    "Access to the computational services provided by the `o2sparc` submodule, is provided via `O2SparcService`, an instance of which can be creates as follows:"
   ]
  },
  {
   "cell_type": "code",
   "execution_count": 18,
   "metadata": {},
   "outputs": [],
   "source": [
    "\n",
    "client = SparcClient(connect=False, config_file='config.ini')\n",
    "o2sparc: O2SparcService = client.o2sparc\n"
   ]
  },
  {
   "cell_type": "markdown",
   "metadata": {},
   "source": [
    "As a sanity check you can now contact the Osparc server to check that you are logged in as the correct user:"
   ]
  },
  {
   "cell_type": "code",
   "execution_count": null,
   "metadata": {},
   "outputs": [],
   "source": [
    "print(o2sparc.get_profile())\n",
    "# foo@bar.com"
   ]
  },
  {
   "cell_type": "markdown",
   "metadata": {},
   "source": [
    "Now to the fun part :). In the following cell we specify a job (or a \"computation\") which we submit to a solver (or \"computational resource\") on the Osparc platform."
   ]
  },
  {
   "cell_type": "code",
   "execution_count": null,
   "metadata": {},
   "outputs": [],
   "source": [
    "with TemporaryDirectory() as tmp_dir:\n",
    "  input_file: Path = Path(tmp_dir) / \"input_file.txt\"\n",
    "  input_file.write_text(\"3\")\n",
    "\n",
    "  job: dict = {\n",
    "    \"input_3\": 0,\n",
    "    \"input_2\": 3.0,\n",
    "    \"input_1\": input_file\n",
    "  }\n",
    "\n",
    "  solver: O2SparcSolver = o2sparc.get_solver(solver_key=\"simcore/services/comp/itis/sleeper\",solver_version=\"2.0.2\")\n",
    "\n",
    "  job_id = solver.submit_job(job)\n",
    "\n",
    "  pbar = tqdm(total=1.0)\n",
    "  progress: float = 0\n",
    "  while not solver.job_done(job_id):\n",
    "    sleep(1)\n",
    "    if solver.get_job_progress(job_id) > progress:\n",
    "      pbar.update(solver.get_job_progress(job_id) - progress)\n",
    "      progress = solver.get_job_progress(job_id)\n",
    "\n",
    "  print(\"job outputs:\")\n",
    "  for output_name, result in solver.get_results(job_id).items():\n",
    "    if isinstance(result,Path):\n",
    "      print(f\"{output_name}: {Path(result).read_text()}\")\n",
    "    else:\n",
    "      print(f\"{output_name}: {result}\")\n",
    "\n",
    "\n",
    "  print(\"job log:\")\n",
    "  log_dir: TemporaryDirectory = solver.get_job_log(job_id)\n",
    "  for elm in Path(log_dir.name).rglob(\"*\"):\n",
    "    if elm.is_file():\n",
    "      print(elm.read_text())\n",
    "      "
   ]
  },
  {
   "cell_type": "markdown",
   "metadata": {},
   "source": [
    "Let's break this into pieces. \n",
    "First we specify the job/input to our solver. A job for a `O2SparcSolver` is nothing but a dictionary whose entries are one of the following types: `str`, `int`, `float` or `pathlib.Path`. Only `pathlib.Path` objects can be passed which point to existing files, like out `input_1` above."
   ]
  },
  {
   "cell_type": "markdown",
   "metadata": {},
   "source": [
    "```python\n",
    "  input_file: Path = Path(tmp_dir) / \"input_file.txt\"\n",
    "  input_file.write_text(\"3\")\n",
    "\n",
    "  job: dict = {\n",
    "    \"input_3\": 0,\n",
    "    \"input_2\": 3.0,\n",
    "    \"input_1\": input_file\n",
    "  }\n",
    "```"
   ]
  },
  {
   "cell_type": "markdown",
   "metadata": {},
   "source": [
    "Second, we get the solver/computational resource we want to use by specifying its identifier and version. Once we have our solver we can submit the job to it."
   ]
  },
  {
   "cell_type": "markdown",
   "metadata": {},
   "source": [
    "```python\n",
    "  solver: O2SparcSolver = o2sparc.get_solver(solver_key=\"simcore/services/comp/itis/sleeper\",solver_version=\"2.0.2\")\n",
    "\n",
    "  job_id = solver.submit_job(job)\n",
    "```"
   ]
  },
  {
   "cell_type": "markdown",
   "metadata": {},
   "source": [
    "Next, we need to wait for the job to be solved"
   ]
  },
  {
   "cell_type": "markdown",
   "metadata": {},
   "source": [
    "```python\n",
    " pbar = tqdm(total=1.0)\n",
    "  progress: float = 0\n",
    "  while not solver.job_done(job_id):\n",
    "    sleep(1)\n",
    "    if solver.get_job_progress(job_id) > progress:\n",
    "      pbar.update(solver.get_job_progress(job_id) - progress)\n",
    "      progress = solver.get_job_progress(job_id)\n",
    "```"
   ]
  },
  {
   "cell_type": "markdown",
   "metadata": {},
   "source": [
    "Once the solver is done performing its computation we can get the results it produces"
   ]
  },
  {
   "cell_type": "markdown",
   "metadata": {},
   "source": [
    "```python\n",
    "  print(\"job outputs:\")\n",
    "  for output_name, result in solver.get_results(job_id).items():\n",
    "    if isinstance(result,Path):\n",
    "      print(f\"{output_name}: {Path(result).read_text()}\")\n",
    "    else:\n",
    "      print(f\"{output_name}: {result}\")\n",
    "```"
   ]
  },
  {
   "cell_type": "markdown",
   "metadata": {},
   "source": [
    "as well as the log it has produces"
   ]
  },
  {
   "cell_type": "markdown",
   "metadata": {},
   "source": [
    "```python\n",
    "  print(\"job log:\")\n",
    "  log_dir: TemporaryDirectory = solver.get_job_log(job_id)\n",
    "  for elm in Path(log_dir.name).rglob(\"*\"):\n",
    "    if elm.is_file():\n",
    "      print(elm.read_text())\n",
    "```"
   ]
  },
  {
   "cell_type": "markdown",
   "metadata": {},
   "source": [
    "Getting the log can be particularly useful for determining issues encountered by the solver. E.g. if the specified `job` is invalid, so that the solver cannot use it, the log will typically indicate this."
   ]
  },
  {
   "cell_type": "markdown",
   "metadata": {},
   "source": []
  }
 ],
 "metadata": {
  "kernelspec": {
   "display_name": ".venv",
   "language": "python",
   "name": "python3"
  },
  "language_info": {
   "codemirror_mode": {
    "name": "ipython",
    "version": 3
   },
   "file_extension": ".py",
   "mimetype": "text/x-python",
   "name": "python",
   "nbconvert_exporter": "python",
   "pygments_lexer": "ipython3",
   "version": "3.10.10"
  },
  "orig_nbformat": 4
 },
 "nbformat": 4,
 "nbformat_minor": 2
}
